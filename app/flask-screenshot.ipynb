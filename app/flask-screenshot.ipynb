{
 "cells": [
  {
   "cell_type": "code",
   "execution_count": 9,
   "id": "artificial-insider",
   "metadata": {},
   "outputs": [],
   "source": [
    "# all the imports\n",
    "import pandas as pd\n",
    "import numpy as np\n",
    "from fastai.core import *\n",
    "from PIL import Image\n",
    "from fastai.script import *\n",
    "from fastai.vision import *\n",
    "from fastai.callbacks import *\n",
    "from fastai.distributed import *\n",
    "from fastprogress import fastprogress\n",
    "from torchvision.models import *"
   ]
  },
  {
   "cell_type": "code",
   "execution_count": null,
   "id": "single-visiting",
   "metadata": {},
   "outputs": [],
   "source": [
    "from flask import Flask, request, make_response\n",
    "from flask import render_template\n",
    "import pyautogui\n",
    "import sys"
   ]
  },
  {
   "cell_type": "code",
   "execution_count": 2,
   "id": "attractive-affairs",
   "metadata": {},
   "outputs": [],
   "source": [
    "# create our little application :) -- 자꾸 오류 ㅠㅠ\n",
    "app = Flask(__name__)\n",
    "learner = load_learner('export.pkl')"
   ]
  },
  {
   "cell_type": "code",
   "execution_count": 1,
   "id": "colonial-franchise",
   "metadata": {},
   "outputs": [],
   "source": [
    "running = True\n",
    "\n",
    "def start():\n",
    "    global running \n",
    "    running = True\n",
    "\n",
    "def stop():\n",
    "    global running\n",
    "    running = False"
   ]
  },
  {
   "cell_type": "code",
   "execution_count": 3,
   "id": "shaped-copper",
   "metadata": {},
   "outputs": [],
   "source": [
    "@app.route('/')\n",
    "def index():\n",
    "    return render_template('index.html')"
   ]
  },
  {
   "cell_type": "code",
   "execution_count": 4,
   "id": "material-district",
   "metadata": {},
   "outputs": [],
   "source": [
    "@app.route('/capture/')\n",
    "def capture():\n",
    "    if running:\n",
    "        myScreenshot = pyautogui.screenshot()\n",
    "        myScreenshot.save(r'C:\\Users\\sangh\\OneDrive\\문서\\PeopleSpace\\test.png')"
   ]
  },
  {
   "cell_type": "code",
   "execution_count": 5,
   "id": "becoming-memphis",
   "metadata": {},
   "outputs": [
    {
     "name": "stdout",
     "output_type": "stream",
     "text": [
      " * Serving Flask app \"__main__\" (lazy loading)\n",
      " * Environment: production\n",
      "   WARNING: This is a development server. Do not use it in a production deployment.\n",
      "   Use a production WSGI server instead.\n",
      " * Debug mode: off\n"
     ]
    },
    {
     "name": "stderr",
     "output_type": "stream",
     "text": [
      " * Running on http://127.0.0.1:5000/ (Press CTRL+C to quit)\n",
      "127.0.0.1 - - [05/Feb/2021 22:02:42] \"\u001b[37mGET / HTTP/1.1\u001b[0m\" 200 -\n"
     ]
    }
   ],
   "source": [
    "if __name__ == \"__main__\":\n",
    "    app.run()"
   ]
  },
  {
   "cell_type": "code",
   "execution_count": null,
   "id": "aerial-place",
   "metadata": {},
   "outputs": [],
   "source": []
  }
 ],
 "metadata": {
  "kernelspec": {
   "display_name": "Python 3",
   "language": "python",
   "name": "python3"
  },
  "language_info": {
   "codemirror_mode": {
    "name": "ipython",
    "version": 3
   },
   "file_extension": ".py",
   "mimetype": "text/x-python",
   "name": "python",
   "nbconvert_exporter": "python",
   "pygments_lexer": "ipython3",
   "version": "3.9.1"
  }
 },
 "nbformat": 4,
 "nbformat_minor": 5
}
