{
 "cells": [
  {
   "cell_type": "code",
   "execution_count": 10,
   "id": "artificial-insider",
   "metadata": {},
   "outputs": [],
   "source": [
    "# all the imports\n",
    "import pandas as pd\n",
    "import numpy as np\n",
    "from fastai.core import *\n",
    "from PIL import Image\n",
    "from fastai.script import *\n",
    "from fastai.vision import *\n",
    "from fastai.callbacks import *\n",
    "from fastai.distributed import *\n",
    "from fastprogress import fastprogress\n",
    "from torchvision.models import *"
   ]
  },
  {
   "cell_type": "code",
   "execution_count": 11,
   "id": "developing-norman",
   "metadata": {},
   "outputs": [],
   "source": [
    "from flask import Flask, request, make_response\n",
    "from flask import render_template\n",
    "import pyautogui\n",
    "import sys"
   ]
  },
  {
   "cell_type": "code",
   "execution_count": 12,
   "id": "attractive-affairs",
   "metadata": {},
   "outputs": [],
   "source": [
    "# create our little application :) -- 자꾸 오류 ㅠㅠ\n",
    "app = Flask(__name__)\n",
    "# learner = load_learner('export.pkl')"
   ]
  },
  {
   "cell_type": "code",
   "execution_count": 13,
   "id": "comparable-allah",
   "metadata": {},
   "outputs": [],
   "source": [
    "running = True\n",
    "\n",
    "@app.route('/start/')\n",
    "def start():\n",
    "    global running \n",
    "    running = True\n",
    "\n",
    "@app.route('/stop/')\n",
    "def stop():\n",
    "    global running\n",
    "    running = False"
   ]
  },
  {
   "cell_type": "code",
   "execution_count": 14,
   "id": "shaped-copper",
   "metadata": {},
   "outputs": [],
   "source": [
    "@app.route('/')\n",
    "def index():\n",
    "    return render_template('index.html')"
   ]
  },
  {
   "cell_type": "code",
   "execution_count": 15,
   "id": "material-district",
   "metadata": {},
   "outputs": [],
   "source": [
    "@app.route('/capture/')\n",
    "def capture():\n",
    "    if running:\n",
    "        myScreenshot = pyautogui.screenshot()\n",
    "        myScreenshot.save(r'C:\\Users\\sangh\\OneDrive\\문서\\PeopleSpace\\test.png')\n",
    "    return \"Done\""
   ]
  },
  {
   "cell_type": "code",
   "execution_count": 16,
   "id": "becoming-memphis",
   "metadata": {},
   "outputs": [
    {
     "name": "stdout",
     "output_type": "stream",
     "text": [
      " * Serving Flask app \"__main__\" (lazy loading)\n",
      " * Environment: production\n",
      "   WARNING: This is a development server. Do not use it in a production deployment.\n",
      "   Use a production WSGI server instead.\n",
      " * Debug mode: off\n"
     ]
    },
    {
     "name": "stderr",
     "output_type": "stream",
     "text": [
      " * Running on http://127.0.0.1:5000/ (Press CTRL+C to quit)\n",
      "127.0.0.1 - - [06/Feb/2021 14:54:42] \"\u001b[37mGET / HTTP/1.1\u001b[0m\" 200 -\n",
      "[2021-02-06 14:54:43,454] ERROR in app: Exception on /start/ [GET]\n",
      "Traceback (most recent call last):\n",
      "  File \"C:\\Users\\sangh\\anaconda3\\envs\\fastai\\lib\\site-packages\\flask\\app.py\", line 2447, in wsgi_app\n",
      "    response = self.full_dispatch_request()\n",
      "  File \"C:\\Users\\sangh\\anaconda3\\envs\\fastai\\lib\\site-packages\\flask\\app.py\", line 1953, in full_dispatch_request\n",
      "    return self.finalize_request(rv)\n",
      "  File \"C:\\Users\\sangh\\anaconda3\\envs\\fastai\\lib\\site-packages\\flask\\app.py\", line 1968, in finalize_request\n",
      "    response = self.make_response(rv)\n",
      "  File \"C:\\Users\\sangh\\anaconda3\\envs\\fastai\\lib\\site-packages\\flask\\app.py\", line 2097, in make_response\n",
      "    raise TypeError(\n",
      "TypeError: The view function did not return a valid response. The function either returned None or ended without a return statement.\n",
      "127.0.0.1 - - [06/Feb/2021 14:54:43] \"\u001b[35m\u001b[1mGET /start/ HTTP/1.1\u001b[0m\" 500 -\n",
      "[2021-02-06 14:54:45,756] ERROR in app: Exception on /stop/ [GET]\n",
      "Traceback (most recent call last):\n",
      "  File \"C:\\Users\\sangh\\anaconda3\\envs\\fastai\\lib\\site-packages\\flask\\app.py\", line 2447, in wsgi_app\n",
      "    response = self.full_dispatch_request()\n",
      "  File \"C:\\Users\\sangh\\anaconda3\\envs\\fastai\\lib\\site-packages\\flask\\app.py\", line 1953, in full_dispatch_request\n",
      "    return self.finalize_request(rv)\n",
      "  File \"C:\\Users\\sangh\\anaconda3\\envs\\fastai\\lib\\site-packages\\flask\\app.py\", line 1968, in finalize_request\n",
      "    response = self.make_response(rv)\n",
      "  File \"C:\\Users\\sangh\\anaconda3\\envs\\fastai\\lib\\site-packages\\flask\\app.py\", line 2097, in make_response\n",
      "    raise TypeError(\n",
      "TypeError: The view function did not return a valid response. The function either returned None or ended without a return statement.\n",
      "127.0.0.1 - - [06/Feb/2021 14:54:45] \"\u001b[35m\u001b[1mGET /stop/ HTTP/1.1\u001b[0m\" 500 -\n",
      "[2021-02-06 14:54:57,050] ERROR in app: Exception on /start/ [GET]\n",
      "Traceback (most recent call last):\n",
      "  File \"C:\\Users\\sangh\\anaconda3\\envs\\fastai\\lib\\site-packages\\flask\\app.py\", line 2447, in wsgi_app\n",
      "    response = self.full_dispatch_request()\n",
      "  File \"C:\\Users\\sangh\\anaconda3\\envs\\fastai\\lib\\site-packages\\flask\\app.py\", line 1953, in full_dispatch_request\n",
      "    return self.finalize_request(rv)\n",
      "  File \"C:\\Users\\sangh\\anaconda3\\envs\\fastai\\lib\\site-packages\\flask\\app.py\", line 1968, in finalize_request\n",
      "    response = self.make_response(rv)\n",
      "  File \"C:\\Users\\sangh\\anaconda3\\envs\\fastai\\lib\\site-packages\\flask\\app.py\", line 2097, in make_response\n",
      "    raise TypeError(\n",
      "TypeError: The view function did not return a valid response. The function either returned None or ended without a return statement.\n",
      "127.0.0.1 - - [06/Feb/2021 14:54:57] \"\u001b[35m\u001b[1mGET /start/ HTTP/1.1\u001b[0m\" 500 -\n",
      "127.0.0.1 - - [06/Feb/2021 14:55:00] \"\u001b[32mGET /capture HTTP/1.1\u001b[0m\" 308 -\n",
      "127.0.0.1 - - [06/Feb/2021 14:55:01] \"\u001b[37mGET /capture/ HTTP/1.1\u001b[0m\" 200 -\n",
      "127.0.0.1 - - [06/Feb/2021 15:20:09] \"\u001b[37mGET / HTTP/1.1\u001b[0m\" 200 -\n",
      "[2021-02-06 15:20:10,745] ERROR in app: Exception on /start/ [GET]\n",
      "Traceback (most recent call last):\n",
      "  File \"C:\\Users\\sangh\\anaconda3\\envs\\fastai\\lib\\site-packages\\flask\\app.py\", line 2447, in wsgi_app\n",
      "    response = self.full_dispatch_request()\n",
      "  File \"C:\\Users\\sangh\\anaconda3\\envs\\fastai\\lib\\site-packages\\flask\\app.py\", line 1953, in full_dispatch_request\n",
      "    return self.finalize_request(rv)\n",
      "  File \"C:\\Users\\sangh\\anaconda3\\envs\\fastai\\lib\\site-packages\\flask\\app.py\", line 1968, in finalize_request\n",
      "    response = self.make_response(rv)\n",
      "  File \"C:\\Users\\sangh\\anaconda3\\envs\\fastai\\lib\\site-packages\\flask\\app.py\", line 2097, in make_response\n",
      "    raise TypeError(\n",
      "TypeError: The view function did not return a valid response. The function either returned None or ended without a return statement.\n",
      "127.0.0.1 - - [06/Feb/2021 15:20:10] \"\u001b[35m\u001b[1mGET /start/ HTTP/1.1\u001b[0m\" 500 -\n"
     ]
    }
   ],
   "source": [
    "if __name__ == \"__main__\":\n",
    "    app.run()"
   ]
  },
  {
   "cell_type": "code",
   "execution_count": null,
   "id": "aerial-place",
   "metadata": {},
   "outputs": [],
   "source": []
  }
 ],
 "metadata": {
  "kernelspec": {
   "display_name": "Python 3",
   "language": "python",
   "name": "python3"
  },
  "language_info": {
   "codemirror_mode": {
    "name": "ipython",
    "version": 3
   },
   "file_extension": ".py",
   "mimetype": "text/x-python",
   "name": "python",
   "nbconvert_exporter": "python",
   "pygments_lexer": "ipython3",
   "version": "3.9.1"
  }
 },
 "nbformat": 4,
 "nbformat_minor": 5
}
